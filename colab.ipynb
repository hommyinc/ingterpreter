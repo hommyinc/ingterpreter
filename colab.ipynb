{
  "nbformat": 4,
  "nbformat_minor": 0,
  "metadata": {
    "colab": {
      "provenance": []
    },
    "kernelspec": {
      "name": "python3",
      "display_name": "Python 3"
    },
    "language_info": {
      "name": "python"
    }
  },
  "cells": [
    {
      "cell_type": "markdown",
      "source": [
        "[![Open In Colab](https://colab.research.google.com/assets/colab-badge.svg)](https://colab.research.google.com/github/hommyinc/ingterpreter/blob/master/colab.ipynb)"
      ],
      "metadata": {
        "id": "eNWjHSDh1V5i"
      }
    },
    {
      "cell_type": "markdown",
      "source": [
        "# 잉터프리터 INGTERPRETER"
      ],
      "metadata": {
        "id": "EZJiJ9vM1Q8x"
      }
    },
    {
      "cell_type": "markdown",
      "source": [
        "## 환경설정 Initialize environment"
      ],
      "metadata": {
        "id": "hEBeHjsS1YNi"
      }
    },
    {
      "cell_type": "code",
      "source": [
        "!pip install -qq getch\n",
        "!git clone -b develop https://github.com/hommyinc/ingterpreter.git\n",
        "!rm -r ingterpreter/.git\n",
        "!cp -r ingterpreter/. ./\n",
        "!rm -r ingterpreter/"
      ],
      "metadata": {
        "colab": {
          "base_uri": "https://localhost:8080/"
        },
        "id": "F1Z0nVGqw8Yt",
        "outputId": "b600f7ba-12f4-423f-b7a4-fdfda5ac2760"
      },
      "execution_count": 1,
      "outputs": []
    },
    {
      "cell_type": "code",
      "source": [
        "import json\n",
        "from typing import Dict\n",
        "\n",
        "def write_json_config(json_dict:Dict, json_fname:str):\n",
        "    with open(json_fname, 'w', encoding=\"utf-8\") as j:\n",
        "        json.dump(json_dict, j, ensure_ascii=False, indent=2, sort_keys=False)\n",
        "\n",
        "def write_ing_script(script_str:str, cfg_dict:Dict, script_fname:str):\n",
        "    encoding = cfg_dict[\"ENCODING\"] if \"ENCODING\" in cfg_dict else \"euc-kr\"\n",
        "    with open(script_fname, 'w', encoding=encoding) as f:\n",
        "        f.write(script_str)"
      ],
      "metadata": {
        "id": "sP3bClYBz_iq"
      },
      "execution_count": 2,
      "outputs": []
    },
    {
      "cell_type": "markdown",
      "source": [
        "## 언어 설정 Set Ingterpreter language configuration"
      ],
      "metadata": {
        "id": "Cmyr5ym_1faa"
      }
    },
    {
      "cell_type": "code",
      "source": [
        "config_dict = {\n",
        "  \"TITLE\": \"ingchicken\",\n",
        "  \"EXT\": \"ingc\",\n",
        "  \"ENCODING\": \"utf-8\",\n",
        "\n",
        "  \"COMMANDS\": {\n",
        "    \"ACTIVATION\": {\n",
        "      \"START\": \"ㄱㄴ?\",\n",
        "      \"END\": \"^^7\"\n",
        "    },\n",
        "    \"OPERATION\": {\n",
        "      \"INC_PTR_OP\": \"우\",\n",
        "      \"DEC_PTR_OP\": \"정\",\n",
        "      \"INC_VAL_OP\": \"잉\",\n",
        "      \"DEC_VAL_OP\": \"치\",\n",
        "      \"PRINT_OP\": \"킨\",\n",
        "      \"STORE_OP\": \"뭣\",\n",
        "      \"LOOP_BEGIN_OP\": \"극\",\n",
        "      \"LOOP_END_OP\": \"락\"\n",
        "    }\n",
        "  }\n",
        "}"
      ],
      "metadata": {
        "id": "ixbyUkxkzksT"
      },
      "execution_count": 3,
      "outputs": []
    },
    {
      "cell_type": "markdown",
      "source": [
        "###### 언어 설정 저장 Save language configuration"
      ],
      "metadata": {
        "id": "dKa-X8SP1ki5"
      }
    },
    {
      "cell_type": "code",
      "source": [
        "write_json_config(config_dict, f\"configs/{config_dict['TITLE']}.json\")"
      ],
      "metadata": {
        "id": "J956YZWh1pjg"
      },
      "execution_count": 4,
      "outputs": []
    },
    {
      "cell_type": "markdown",
      "source": [
        "## 스크립트 작성 Write Ingterpreter language script"
      ],
      "metadata": {
        "id": "wd0JZ8pA1nJZ"
      }
    },
    {
      "cell_type": "code",
      "source": [
        "script_content = \"\"\"\n",
        "ㄱㄴ?\n",
        "\n",
        "잉 잉 잉 잉 잉 잉 잉 잉 잉 잉\n",
        "극 우 잉 잉 잉 잉 잉 잉 잉 우 잉 잉 잉 잉 잉 잉 잉 잉 잉 잉 우 잉 잉 잉 잉 잉 잉 잉 잉 잉 잉 잉 우 잉 잉 잉 잉 우 잉 잉 잉 정 정 정 정 정 치 락\n",
        "우 잉 잉 킨\n",
        "우 잉 킨\n",
        "우 치 치 킨\n",
        "킨\n",
        "잉 잉 잉 킨\n",
        "우 잉 잉 잉 잉 킨\n",
        "우 잉 잉 킨\n",
        "정 정 정 정 치 치 킨\n",
        "우 우 잉 잉 잉 킨\n",
        "정 잉 잉 잉 잉 킨\n",
        "치 치 치 치 킨\n",
        "우 치 치 치 치 킨\n",
        "정 치 킨\n",
        "우 잉 잉 잉 잉 잉 킨\n",
        "정 잉 잉 잉 잉 킨\n",
        "잉 킨\n",
        "우 치 치 치 킨\n",
        "우 치 킨\n",
        "정 정 정 잉 잉 잉 킨\n",
        "우 우 치 치 킨\n",
        "정 치 치 킨\n",
        "우 우 우 잉 킨\n",
        "\n",
        "^^7\n",
        "\"\"\"\n",
        "\n",
        "my_script_name = \"helloing.ingc\""
      ],
      "metadata": {
        "id": "tFjnjNz_zkVq"
      },
      "execution_count": 5,
      "outputs": []
    },
    {
      "cell_type": "markdown",
      "source": [
        "###### 스크립트 내용 저장 Save script file"
      ],
      "metadata": {
        "id": "2KdQcAUc11tw"
      }
    },
    {
      "cell_type": "code",
      "source": [
        "write_ing_script(script_content, config_dict, my_script_name)"
      ],
      "metadata": {
        "id": "Ysgxzn7515VY"
      },
      "execution_count": 6,
      "outputs": []
    },
    {
      "cell_type": "markdown",
      "source": [
        "## 잉터프리터 코드 실행 Run Ingterpreter script\n",
        "  - `python runner.py {언어이름 LANGNAME} run {스크립트이름 SCRIPTNAME}`"
      ],
      "metadata": {
        "id": "bjMFXyFS15Hw"
      }
    },
    {
      "cell_type": "code",
      "source": [
        "!python runner.py ingchicken run helloing.ingc"
      ],
      "metadata": {
        "colab": {
          "base_uri": "https://localhost:8080/"
        },
        "id": "JHcTBGZKzEFq",
        "outputId": "e56cf32f-6515-4868-ece3-83a9280635aa"
      },
      "execution_count": 7,
      "outputs": [
        {
          "output_type": "stream",
          "name": "stdout",
          "text": [
            "Hello, Friendship+Ing!"
          ]
        }
      ]
    }
  ]
}